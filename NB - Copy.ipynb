{
 "cells": [
  {
   "cell_type": "markdown",
   "id": "37cca56c-d653-4497-bda9-caf246c54c40",
   "metadata": {},
   "source": [
    "# Reference\n",
    "\n",
    "## https://scikit-learn.org/stable/modules/classes.html#module-sklearn.naive_bayes"
   ]
  },
  {
   "cell_type": "markdown",
   "id": "8b52a89e",
   "metadata": {
    "id": "8b52a89e"
   },
   "source": [
    "---\n",
    "#**Introduction To Machine Learning**\n",
    "##**Supervised Learning (= classification):**\n",
    "\n",
    "*   k-Nearest Neighbor (kNN)\n",
    "*   **naive Bayesian (NB)**\n",
    "*   Decision Tree (DT)\n",
    "*   Support Vector Machine (SVM)\n",
    "---"
   ]
  },
  {
   "cell_type": "markdown",
   "id": "78e61ec3",
   "metadata": {
    "id": "78e61ec3"
   },
   "source": [
    "Bayes theorem provides a way of calculating the posterior probability, P(c|x), from P(c), P(x), and P(x|c). Naive Bayes classifier assumes that the effect of the value of a predictor (x) on a given class *c* is independent of the values of other predictors. This assumption is called class conditional independence.\n",
    "![Naive Bayes Equation](https://miro.medium.com/max/954/1*2SnqzKlKD9DC5qL8C4HaQQ.png)"
   ]
  },
  {
   "cell_type": "markdown",
   "id": "74d19895",
   "metadata": {
    "id": "74d19895"
   },
   "source": [
    "## <font color = #950CDF> Part 1: </font> <font color = #4854E8> Information of Dataset </font>\n",
    "<b>Breast Cancer Wisconsin (Diagnostic) Data Set:</b> Features are computed from a digitized image of a fine needle aspirate (FNA) of a breast mass. They describe characteristics of the cell nuclei present in the image. This data set is originally from the University of Wisconsin CS department at ftp ftp.cs.wisc.edu > cd math-prog/cpo-dataset/machine-learn/WDBC/. But I found it in the University of California Urvine Machine Learning Depository at the link below. The first column is a unique Id, the second column is a binary variable ‘M’ for malignant and ‘B’ for benign. Then there are 30 independent variables which are all different measurements of cell nucleus size and shape.\n",
    "\n",
    "https://archive.ics.uci.edu/ml/datasets/Breast+Cancer+Wisconsin+%28Diagnostic%29"
   ]
  },
  {
   "cell_type": "markdown",
   "id": "ac504ade",
   "metadata": {
    "id": "ac504ade"
   },
   "source": [
    "### <font color = #27C3E5> 1.1: </font> <font color = #41EA46> Import Libraries and Dataset </font>"
   ]
  },
  {
   "cell_type": "markdown",
   "id": "25664f12",
   "metadata": {
    "id": "25664f12"
   },
   "source": [
    "#### <font color = blue>Import the Libraries"
   ]
  },
  {
   "cell_type": "code",
   "execution_count": null,
   "id": "b918c2ae",
   "metadata": {
    "id": "b918c2ae",
    "tags": []
   },
   "outputs": [],
   "source": [
    "import numpy as np\n",
    "import pandas as pd\n",
    "import seaborn as sns\n",
    "import matplotlib.pyplot as plt\n",
    "from sklearn.model_selection import train_test_split\n",
    "from sklearn.preprocessing import LabelEncoder, StandardScaler\n",
    "from sklearn.metrics import confusion_matrix\n",
    "from sklearn.metrics import accuracy_score, precision_score, recall_score, f1_score, mean_absolute_error, roc_auc_score"
   ]
  },
  {
   "cell_type": "markdown",
   "id": "c7a2a874",
   "metadata": {
    "id": "c7a2a874"
   },
   "source": [
    "#### <font color = blue>Import the Dataset"
   ]
  },
  {
   "cell_type": "code",
   "execution_count": null,
   "id": "1905b545",
   "metadata": {
    "id": "1905b545",
    "outputId": "c3ee1f2f-9c4a-415c-c153-dcae8ce4d3d8",
    "tags": []
   },
   "outputs": [],
   "source": [
    "df = pd.read_csv(\"breast-cancer.csv\")\n",
    "df = df.iloc[:, 1:32]\n",
    "df.tail(3)"
   ]
  },
  {
   "cell_type": "markdown",
   "id": "4c91e443",
   "metadata": {
    "id": "4c91e443"
   },
   "source": [
    "### <font color = #27C3E5> 1.2: </font> <font color = #41EA46> Data Information and Visualization </font>"
   ]
  },
  {
   "cell_type": "markdown",
   "id": "87d6fdbd",
   "metadata": {
    "id": "87d6fdbd"
   },
   "source": [
    "#### <font color = blue> View all Rows and Cols"
   ]
  },
  {
   "cell_type": "code",
   "execution_count": null,
   "id": "1062ca8d",
   "metadata": {
    "id": "1062ca8d",
    "tags": []
   },
   "outputs": [],
   "source": [
    "pd.set_option('display.max_columns', None)\n",
    "pd.set_option('display.max_rows', None)"
   ]
  },
  {
   "cell_type": "markdown",
   "id": "a1a5c020",
   "metadata": {
    "id": "a1a5c020"
   },
   "source": [
    "#### <font color = blue> Data Information"
   ]
  },
  {
   "cell_type": "code",
   "execution_count": null,
   "id": "a89d8c48",
   "metadata": {
    "id": "a89d8c48",
    "outputId": "9a86e2f1-a217-4e78-a0e5-98dfba75dc14",
    "tags": []
   },
   "outputs": [],
   "source": [
    "df.info()"
   ]
  },
  {
   "cell_type": "markdown",
   "id": "cb93274f",
   "metadata": {
    "id": "cb93274f"
   },
   "source": [
    "#### <font color = blue> Visualize Target Class Label Distributiuon"
   ]
  },
  {
   "cell_type": "code",
   "execution_count": null,
   "id": "7425b893",
   "metadata": {
    "id": "7425b893",
    "outputId": "55f138ac-0838-4b8b-8b01-a411a516a6f1",
    "tags": []
   },
   "outputs": [],
   "source": [
    "plt.style.use('fivethirtyeight')\n",
    "malignant = df[df['diagnosis'] == 'M'].shape[0]\n",
    "benign = df[df['diagnosis'] == 'B'].shape[0]\n",
    "\n",
    "class_ = [malignant, benign]\n",
    "label = ['malignant', 'benign']\n",
    "\n",
    "plt.pie(class_, labels = label, shadow = True, wedgeprops = {'edgecolor': 'black'}, \n",
    "        autopct = '%1.1f%%', startangle= 90, colors=['red', 'green'])\n",
    "\n",
    "plt.tight_layout()\n",
    "plt.show()"
   ]
  },
  {
   "cell_type": "markdown",
   "id": "8f783775",
   "metadata": {
    "id": "8f783775"
   },
   "source": [
    "![Machine Learning Project](https://user-images.githubusercontent.com/7065401/52071927-c1cd7100-2562-11e9-908a-dde91ba14e59.png)"
   ]
  },
  {
   "cell_type": "markdown",
   "id": "98cbd36e",
   "metadata": {
    "id": "98cbd36e"
   },
   "source": [
    "## <font color = #950CDF> Part 2: </font> <font color = #4854E8> Data Preprocessing </font>"
   ]
  },
  {
   "cell_type": "markdown",
   "id": "587b0744",
   "metadata": {
    "id": "587b0744"
   },
   "source": [
    "### <font color = #27C3E5> 2.1: </font> <font color = #41EA46> Define Predictor and Target Attributes </font>"
   ]
  },
  {
   "cell_type": "code",
   "execution_count": null,
   "id": "dd6a0493",
   "metadata": {
    "id": "dd6a0493",
    "tags": []
   },
   "outputs": [],
   "source": [
    "X = df.iloc[:, 1:32]\n",
    "Y = df.iloc[:, 0]"
   ]
  },
  {
   "cell_type": "markdown",
   "id": "508ac7fb",
   "metadata": {
    "id": "508ac7fb"
   },
   "source": [
    "#### <font color = blue> Predictor Attributes"
   ]
  },
  {
   "cell_type": "code",
   "execution_count": null,
   "id": "91a41097",
   "metadata": {
    "id": "91a41097",
    "outputId": "2381e812-19c4-40b4-c5e0-8c9eded39af3",
    "tags": []
   },
   "outputs": [],
   "source": [
    "X.tail(3)"
   ]
  },
  {
   "cell_type": "markdown",
   "id": "91aa304c",
   "metadata": {
    "id": "91aa304c"
   },
   "source": [
    "#### <font color = blue> Target Attribute"
   ]
  },
  {
   "cell_type": "code",
   "execution_count": null,
   "id": "81a9b72f",
   "metadata": {
    "id": "81a9b72f",
    "outputId": "df7702e0-2342-4f59-a76a-a1c1699ceef7",
    "tags": []
   },
   "outputs": [],
   "source": [
    "Y.tail(3)"
   ]
  },
  {
   "cell_type": "markdown",
   "id": "94d84a29",
   "metadata": {
    "id": "94d84a29"
   },
   "source": [
    "### <font color = #27C3E5> 2.2: </font> <font color = #41EA46> Split the Data into Training and Testing </font>"
   ]
  },
  {
   "cell_type": "code",
   "execution_count": null,
   "id": "a4cd62b0",
   "metadata": {
    "id": "a4cd62b0",
    "tags": []
   },
   "outputs": [],
   "source": [
    "X_train, X_test, Y_train, Y_test = train_test_split(\n",
    "                                                    X, \n",
    "                                                    Y,\n",
    "                                                    test_size=0.2,\n",
    "                                                    random_state=0)"
   ]
  },
  {
   "cell_type": "markdown",
   "id": "7e7c28ac",
   "metadata": {
    "id": "7e7c28ac"
   },
   "source": [
    "#### <font color = blue> Training Data"
   ]
  },
  {
   "cell_type": "code",
   "execution_count": null,
   "id": "b2a40dd2",
   "metadata": {
    "id": "b2a40dd2",
    "outputId": "23c0a2dd-2ff4-4464-a304-3974e22090b3",
    "tags": []
   },
   "outputs": [],
   "source": [
    "print(\"X_train\", X_train.shape)\n",
    "print(\"Y_train\", Y_train.shape)"
   ]
  },
  {
   "cell_type": "markdown",
   "id": "fdf9a312",
   "metadata": {
    "id": "fdf9a312"
   },
   "source": [
    "#### <font color = blue> Testing Data"
   ]
  },
  {
   "cell_type": "code",
   "execution_count": null,
   "id": "b17b88b9",
   "metadata": {
    "id": "b17b88b9",
    "outputId": "485c414d-30c6-48ca-98d4-3999eddc724b",
    "tags": []
   },
   "outputs": [],
   "source": [
    "print(\"X_test\", X_test.shape)\n",
    "print(\"X_test\", Y_test.shape)"
   ]
  },
  {
   "cell_type": "markdown",
   "id": "90d4d2d4",
   "metadata": {
    "id": "90d4d2d4"
   },
   "source": [
    "### <font color = #27C3E5> 2.3: </font> <font color = #41EA46> Check Missing Value </font>"
   ]
  },
  {
   "cell_type": "code",
   "execution_count": null,
   "id": "2380e956",
   "metadata": {
    "id": "2380e956",
    "outputId": "0d1c5137-7623-4f24-c0ef-3d9c766d7cc0",
    "tags": []
   },
   "outputs": [],
   "source": [
    "df.isnull().sum()"
   ]
  },
  {
   "cell_type": "markdown",
   "id": "1cbd5197",
   "metadata": {
    "id": "1cbd5197"
   },
   "source": [
    "### <font color = #27C3E5> 2.4: </font> <font color = #41EA46> Feature Selection - With Correlation </font>"
   ]
  },
  {
   "cell_type": "markdown",
   "id": "130b2efa",
   "metadata": {
    "id": "130b2efa"
   },
   "source": [
    "#### <font color = blue> Correlation"
   ]
  },
  {
   "cell_type": "code",
   "execution_count": null,
   "id": "6d2e137d",
   "metadata": {
    "id": "6d2e137d",
    "outputId": "a0753d34-dffd-4c70-a72a-d36c57341be8",
    "tags": []
   },
   "outputs": [],
   "source": [
    "corr = X_train.corr()\n",
    "corr"
   ]
  },
  {
   "cell_type": "markdown",
   "id": "f07f1efa",
   "metadata": {
    "id": "f07f1efa"
   },
   "source": [
    "#### <font color = blue> Visualize the Correlation"
   ]
  },
  {
   "cell_type": "code",
   "execution_count": null,
   "id": "d6e494fa",
   "metadata": {
    "id": "d6e494fa",
    "outputId": "6077dfca-e169-4687-9e1c-5ee59771125f",
    "tags": []
   },
   "outputs": [],
   "source": [
    "plt.figure(figsize = (20, 9))\n",
    "matrix = np.triu(corr)        # take lower correlation matrix\n",
    "sns.heatmap(corr, mask = matrix, annot = True, linewidth = 1.5)"
   ]
  },
  {
   "cell_type": "markdown",
   "id": "9a3b08dd",
   "metadata": {
    "id": "9a3b08dd"
   },
   "source": [
    "#### <font color = blue> Remove Features (higest corr)"
   ]
  },
  {
   "cell_type": "code",
   "execution_count": null,
   "id": "9082eb62",
   "metadata": {
    "id": "9082eb62",
    "tags": []
   },
   "outputs": [],
   "source": [
    "# with the following function we can select highly correlated features\n",
    "# it will remove the first feature that is correlated with anything other feature\n",
    "\n",
    "def correlation(dataset, threshold):\n",
    "    col_corr = set()  # Set of all the names of correlated columns\n",
    "    corr_matrix = dataset.corr()\n",
    "    for i in range(len(corr_matrix.columns)):\n",
    "        for j in range(i):\n",
    "            if abs(corr_matrix.iloc[i, j]) > threshold: # we are interested in absolute coeff value\n",
    "                colname = corr_matrix.columns[i]  # getting the name of column\n",
    "                col_corr.add(colname)\n",
    "    return col_corr"
   ]
  },
  {
   "cell_type": "code",
   "execution_count": null,
   "id": "fdae6d26",
   "metadata": {
    "id": "fdae6d26",
    "outputId": "c93a03f0-5fbe-4a5f-ff38-763ad2d81c76",
    "tags": []
   },
   "outputs": [],
   "source": [
    "corr_features = correlation(X, 0.7)\n",
    "len(set(corr_features))"
   ]
  },
  {
   "cell_type": "code",
   "execution_count": null,
   "id": "4342d649",
   "metadata": {
    "id": "4342d649",
    "outputId": "ac433733-8e95-47e3-cb37-7633870db0c1",
    "tags": []
   },
   "outputs": [],
   "source": [
    "corr_features"
   ]
  },
  {
   "cell_type": "code",
   "execution_count": null,
   "id": "dd4765cf",
   "metadata": {
    "id": "dd4765cf",
    "tags": []
   },
   "outputs": [],
   "source": [
    "X_train = X_train.drop(corr_features,axis=1)\n",
    "X_test = X_test.drop(corr_features,axis=1)"
   ]
  },
  {
   "cell_type": "code",
   "execution_count": null,
   "id": "d9f81d13",
   "metadata": {
    "id": "d9f81d13",
    "outputId": "37f8756d-a394-4b5a-f478-772f3bfe7c39",
    "tags": []
   },
   "outputs": [],
   "source": [
    "X_train.head()"
   ]
  },
  {
   "cell_type": "code",
   "execution_count": null,
   "id": "d458c5fe",
   "metadata": {
    "id": "d458c5fe",
    "outputId": "bfde52e2-c7e8-431b-f8b0-31bf08c81ddf",
    "tags": []
   },
   "outputs": [],
   "source": [
    "X_train.shape   # 30 -20 = 10"
   ]
  },
  {
   "cell_type": "markdown",
   "id": "e63c31b6",
   "metadata": {
    "id": "e63c31b6"
   },
   "source": [
    "#### <font color = blue> Label Encoder"
   ]
  },
  {
   "cell_type": "code",
   "execution_count": null,
   "id": "850bad9c",
   "metadata": {
    "id": "850bad9c",
    "outputId": "d698472a-972a-4cf6-d8c9-fba82493b810",
    "tags": []
   },
   "outputs": [],
   "source": [
    "LE = LabelEncoder()\n",
    "Y_train = LE.fit_transform(Y_train)\n",
    "Y_test = LE.fit_transform(Y_test)        \n",
    "Y_test                             # malignant = 0,  benign = 1"
   ]
  },
  {
   "cell_type": "markdown",
   "id": "d23a8f5a",
   "metadata": {
    "id": "d23a8f5a"
   },
   "source": [
    "#### <font color = blue> Feature Scaling"
   ]
  },
  {
   "cell_type": "code",
   "execution_count": null,
   "id": "cf77ad16",
   "metadata": {
    "id": "cf77ad16",
    "outputId": "b2f3d198-7d3e-42fe-d0ec-188f16c34002",
    "tags": []
   },
   "outputs": [],
   "source": [
    "SS = StandardScaler()\n",
    "X_train = SS.fit_transform(X_train)\n",
    "X_test = SS.transform(X_test)\n",
    "\n",
    "pd.DataFrame(X_test).head()    # Same Scale"
   ]
  },
  {
   "cell_type": "markdown",
   "id": "ca572984",
   "metadata": {
    "id": "ca572984"
   },
   "source": [
    "## <font color = #950CDF> Part 3: </font> <font color = #4854E8> Build Naive Bayes Classifier </font>"
   ]
  },
  {
   "cell_type": "markdown",
   "id": "d495b452",
   "metadata": {
    "id": "d495b452"
   },
   "source": [
    "### <font color = #27C3E5> 3.1: </font> <font color = #41EA46> Implementation from Scratch </font>"
   ]
  },
  {
   "cell_type": "markdown",
   "id": "170628c0",
   "metadata": {
    "id": "170628c0"
   },
   "source": [
    "#### <font color = blue> Build Model"
   ]
  },
  {
   "cell_type": "code",
   "execution_count": null,
   "id": "32046f0d",
   "metadata": {
    "id": "32046f0d",
    "tags": []
   },
   "outputs": [],
   "source": [
    "class NaiveBayes:\n",
    "    def fit(self, X, y):\n",
    "        n_samples, n_features = X.shape\n",
    "        self._classes = np.unique(y)\n",
    "        n_classes = len(self._classes)\n",
    "\n",
    "        # calculate mean, var, and prior for each class\n",
    "        self._mean = np.zeros((n_classes, n_features), dtype=np.float64)\n",
    "        self._var = np.zeros((n_classes, n_features), dtype=np.float64)\n",
    "        self._priors = np.zeros(n_classes, dtype=np.float64)\n",
    "\n",
    "        for idx, c in enumerate(self._classes):\n",
    "            X_c = X[y == c]\n",
    "            self._mean[idx, :] = X_c.mean(axis=0)\n",
    "            self._var[idx, :] = X_c.var(axis=0)\n",
    "            self._priors[idx] = X_c.shape[0] / float(n_samples)\n",
    "\n",
    "    def predict(self, X):\n",
    "        y_pred = [self._predict(x) for x in X]\n",
    "        return np.array(y_pred)\n",
    "\n",
    "    def _predict(self, x):\n",
    "        posteriors = []\n",
    "\n",
    "        # calculate posterior probability for each class\n",
    "        for idx, c in enumerate(self._classes):\n",
    "            prior = np.log(self._priors[idx])\n",
    "            posterior = np.sum(np.log(self._pdf(idx, x)))\n",
    "            posterior = prior + posterior\n",
    "            posteriors.append(posterior)\n",
    "\n",
    "        # return class with highest posterior probability\n",
    "        return self._classes[np.argmax(posteriors)]\n",
    "\n",
    "    def _pdf(self, class_idx, x):\n",
    "        mean = self._mean[class_idx]\n",
    "        var = self._var[class_idx]\n",
    "        numerator = np.exp(-((x - mean) ** 2) / (2 * var))\n",
    "        denominator = np.sqrt(2 * np.pi * var)\n",
    "        return numerator / denominator"
   ]
  },
  {
   "cell_type": "markdown",
   "id": "ae2a637c",
   "metadata": {
    "id": "ae2a637c"
   },
   "source": [
    "#### <font color = blue> Initialize Model"
   ]
  },
  {
   "cell_type": "code",
   "execution_count": null,
   "id": "728a751a",
   "metadata": {
    "id": "728a751a",
    "tags": []
   },
   "outputs": [],
   "source": [
    "NB_scratch = NaiveBayes()"
   ]
  },
  {
   "cell_type": "markdown",
   "id": "ad70e70e",
   "metadata": {
    "id": "ad70e70e"
   },
   "source": [
    "#### <font color = blue> Fit the Training Data into Model"
   ]
  },
  {
   "cell_type": "code",
   "execution_count": null,
   "id": "53f1abab",
   "metadata": {
    "id": "53f1abab",
    "tags": []
   },
   "outputs": [],
   "source": [
    "NB_scratch.fit(X_train, Y_train)"
   ]
  },
  {
   "cell_type": "markdown",
   "id": "7aac1f84",
   "metadata": {
    "id": "7aac1f84"
   },
   "source": [
    "#### <font color = blue> Predict the Test data"
   ]
  },
  {
   "cell_type": "code",
   "execution_count": null,
   "id": "d014bc31",
   "metadata": {
    "id": "d014bc31",
    "outputId": "80e39c7b-c82a-4b89-ee2d-a9e27c5248e5",
    "tags": []
   },
   "outputs": [],
   "source": [
    "Y_pred_scratch = NB_scratch.predict(X_test)\n",
    "Y_pred_scratch"
   ]
  },
  {
   "cell_type": "markdown",
   "id": "649924f3",
   "metadata": {
    "id": "649924f3"
   },
   "source": [
    "#### <font color = blue> Accuracy Score"
   ]
  },
  {
   "cell_type": "code",
   "execution_count": null,
   "id": "3d3335da",
   "metadata": {
    "id": "3d3335da",
    "outputId": "6902613c-8a9d-4fbf-85c8-dfa114f4fb42",
    "tags": []
   },
   "outputs": [],
   "source": [
    "Accuracy_Scratch = accuracy_score(Y_pred_scratch, Y_test)\n",
    "print('Accuracy Score:', Accuracy_Scratch)"
   ]
  },
  {
   "cell_type": "markdown",
   "id": "f1c81dd5",
   "metadata": {
    "id": "f1c81dd5"
   },
   "source": [
    "### <font color = #27C3E5> 3.2: </font> <font color = #41EA46> Implementation with Scikit-Learn </font>"
   ]
  },
  {
   "cell_type": "markdown",
   "id": "bfec4a8c",
   "metadata": {
    "id": "bfec4a8c"
   },
   "source": [
    "#### <font color = blue> Import Model From Sklearn"
   ]
  },
  {
   "cell_type": "code",
   "execution_count": null,
   "id": "5f959d3b",
   "metadata": {
    "id": "5f959d3b",
    "tags": []
   },
   "outputs": [],
   "source": [
    "from sklearn.naive_bayes import GaussianNB"
   ]
  },
  {
   "cell_type": "markdown",
   "id": "25a52636",
   "metadata": {
    "id": "25a52636"
   },
   "source": [
    "#### <font color = blue> Initialize Model"
   ]
  },
  {
   "cell_type": "code",
   "execution_count": null,
   "id": "a56e6667",
   "metadata": {
    "id": "a56e6667",
    "tags": []
   },
   "outputs": [],
   "source": [
    "NB_Sklearn = GaussianNB()"
   ]
  },
  {
   "cell_type": "markdown",
   "id": "2b70807e",
   "metadata": {
    "id": "2b70807e"
   },
   "source": [
    "#### <font color = blue> Fit the Training Data into Model"
   ]
  },
  {
   "cell_type": "code",
   "execution_count": null,
   "id": "d00ddad7",
   "metadata": {
    "id": "d00ddad7",
    "outputId": "5fb74fb9-25d3-41e6-cfdd-9f07da7d145e",
    "tags": []
   },
   "outputs": [],
   "source": [
    "NB_Sklearn.fit(X_train, Y_train)"
   ]
  },
  {
   "cell_type": "markdown",
   "id": "c40fdce1",
   "metadata": {
    "id": "c40fdce1"
   },
   "source": [
    "#### <font color = blue> Predict the Test data"
   ]
  },
  {
   "cell_type": "code",
   "execution_count": null,
   "id": "8c551198",
   "metadata": {
    "id": "8c551198",
    "outputId": "7f799fd3-9690-4686-d627-1ff5c92ceb15",
    "tags": []
   },
   "outputs": [],
   "source": [
    "Y_pred_Sklearn = NB_Sklearn.predict(X_test)\n",
    "Y_pred_Sklearn"
   ]
  },
  {
   "cell_type": "markdown",
   "id": "2e3975fe",
   "metadata": {
    "id": "2e3975fe"
   },
   "source": [
    "#### <font color = blue> Accuracy Score"
   ]
  },
  {
   "cell_type": "code",
   "execution_count": null,
   "id": "345ace1b",
   "metadata": {
    "id": "345ace1b",
    "outputId": "c408fd99-7dd8-4cf1-8828-d4d103e8541a",
    "tags": []
   },
   "outputs": [],
   "source": [
    "Accuracy_Sklearn = accuracy_score(Y_pred_Sklearn, Y_test)\n",
    "print('Accuracy Score:', Accuracy_Sklearn)"
   ]
  },
  {
   "cell_type": "markdown",
   "id": "69510149",
   "metadata": {
    "id": "69510149"
   },
   "source": [
    "### <font color = #27C3E5> 3.3: </font> <font color = #41EA46> Comparison (Scratch vs. Scikit-Learn) </font>"
   ]
  },
  {
   "cell_type": "code",
   "execution_count": null,
   "id": "07eed802",
   "metadata": {
    "id": "07eed802",
    "outputId": "0c1c8043-0efb-4332-ac7f-6243a367df08",
    "tags": []
   },
   "outputs": [],
   "source": [
    "accuracy = [Accuracy_Sklearn, Accuracy_Scratch]\n",
    "label = [\"Sklearn\", \"Scratch\"]\n",
    "plt.bar(label, accuracy, color = ['blue', 'red'])\n",
    "plt.title(\"Sklearn vs Scratch\")\n",
    "plt.xlabel(\"Naive Bayes\")\n",
    "plt.ylabel(\"Accuracy\")\n",
    "plt.show()"
   ]
  },
  {
   "cell_type": "markdown",
   "id": "6257e81a",
   "metadata": {
    "id": "6257e81a"
   },
   "source": [
    "Both result are Equal"
   ]
  },
  {
   "cell_type": "markdown",
   "id": "c671f223",
   "metadata": {
    "id": "c671f223"
   },
   "source": [
    "## <font color = #950CDF> Part 4: </font> <font color = #4854E8> Evaluate the Result </font>"
   ]
  },
  {
   "cell_type": "markdown",
   "id": "c6049136",
   "metadata": {
    "id": "c6049136"
   },
   "source": [
    "### <font color = #27C3E5> 4.1: </font> <font color = #41EA46> Confusion Matrix</font>"
   ]
  },
  {
   "cell_type": "code",
   "execution_count": null,
   "id": "9671bd24",
   "metadata": {
    "id": "9671bd24",
    "outputId": "f440b106-5a6e-472a-e996-886b272ae02f",
    "tags": []
   },
   "outputs": [],
   "source": [
    "confusion_matrix_Scratch = confusion_matrix(Y_pred_scratch, Y_test)\n",
    "\n",
    "#[row, column]\n",
    "TP = confusion_matrix_Scratch[1, 1]        \n",
    "TN = confusion_matrix_Scratch[0, 0]           \n",
    "FP = confusion_matrix_Scratch[0, 1]           \n",
    "FN = confusion_matrix_Scratch[1, 0]\n",
    "\n",
    "group_names = ['TN','FP','FN','TP']\n",
    "\n",
    "group_counts = [\"{0:0.0f}\".format(value) for value in confusion_matrix_Scratch.flatten()]\n",
    "\n",
    "group_percentages = [\"{0:.2%}\".format(value) for value in confusion_matrix_Scratch.flatten()/np.sum(confusion_matrix_Scratch)]\n",
    "\n",
    "labels = [f\"{v1}\\n{v2}\\n{v3}\" for v1, v2, v3 in zip(group_names,group_counts,group_percentages)]\n",
    "\n",
    "labels = np.asarray(labels).reshape(2,2)\n",
    "\n",
    "sns.heatmap(confusion_matrix_Scratch, annot=labels, fmt='', cmap='Greens')"
   ]
  },
  {
   "cell_type": "markdown",
   "id": "8904540f",
   "metadata": {
    "id": "8904540f"
   },
   "source": [
    "### <font color = #27C3E5> 4.2: </font> <font color = #41EA46>  Evaluate the Results </font>"
   ]
  },
  {
   "cell_type": "markdown",
   "id": "45ee8a3d",
   "metadata": {
    "id": "45ee8a3d"
   },
   "source": [
    "#### <font color = blue>4.2.1: Calculate the Results"
   ]
  },
  {
   "cell_type": "code",
   "execution_count": null,
   "id": "707e7224",
   "metadata": {
    "id": "707e7224",
    "outputId": "e2d11b58-402a-49ae-ed91-e8d66bc9a693",
    "tags": []
   },
   "outputs": [],
   "source": [
    "# Accuracy Score\n",
    "Accuracy = accuracy_score(Y_pred_scratch, Y_test)\n",
    "print('Accuracy Score:', Accuracy) \n",
    "\n",
    "# Precision Score\n",
    "Precision = precision_score(Y_pred_scratch, Y_test)\n",
    "print('Precision Score:', Precision)   \n",
    "\n",
    "# True positive Rate (TPR) or Sensitivity or Recall\n",
    "TPR = recall_score(Y_pred_scratch, Y_test)\n",
    "print('True positive Rate:', TPR)             \n",
    "\n",
    "# False positive Rate (FPR)\n",
    "FPR = FP / float(TN + FP)\n",
    "print('False positive Rate', FPR)                       \n",
    "\n",
    "# F1 Score or F-Measure or F-Score\n",
    "F1 = f1_score(Y_pred_scratch, Y_test)\n",
    "print('F1 Score:', F1)                 \n",
    "\n",
    "# Specificity\n",
    "Specificity = TN / (TN + FP)\n",
    "print('Specificity:', Specificity )                    \n",
    "\n",
    "# Mean Absolute Error\n",
    "Error = mean_absolute_error(Y_pred_scratch, Y_test)\n",
    "print('Mean Absolute Error:', Error)   \n",
    "\n",
    "# ROC Area\n",
    "Roc = roc_auc_score(Y_pred_scratch, Y_test)\n",
    "print('ROC Area:', Roc) "
   ]
  },
  {
   "cell_type": "markdown",
   "id": "77329e6d",
   "metadata": {
    "id": "77329e6d"
   },
   "source": [
    "#### <font color = blue>4.2.2: Visualize the Results"
   ]
  },
  {
   "cell_type": "code",
   "execution_count": null,
   "id": "e4999429",
   "metadata": {
    "id": "e4999429",
    "outputId": "e5706c55-c9b0-4d81-efb7-47c27abdd17e",
    "tags": []
   },
   "outputs": [],
   "source": [
    "plt.figure(figsize = (12, 5))\n",
    "\n",
    "result = [Accuracy, Precision, TPR, FPR, F1, Specificity, Error, Roc]\n",
    "label = [\"Accuracy\", \"Precision\", \"TPR\", \"FPR\", \"F-Score\", \"Specificity\", \"Error\", \"Roc Area\"]\n",
    "colors=[ 'red', 'green', 'blue', 'darkgoldenrod', 'orange', 'purple', 'brown', 'darkcyan']\n",
    "\n",
    "plt.bar(label, result, color = colors, edgecolor='black')"
   ]
  },
  {
   "cell_type": "code",
   "execution_count": null,
   "id": "0a58610a-3a3f-4184-a76c-f2c233b9cc37",
   "metadata": {},
   "outputs": [],
   "source": []
  },
  {
   "cell_type": "code",
   "execution_count": null,
   "id": "d78dcbc6-9c48-4ddb-a408-d4cd4a0c4ce9",
   "metadata": {},
   "outputs": [],
   "source": []
  }
 ],
 "metadata": {
  "colab": {
   "provenance": []
  },
  "kernelspec": {
   "display_name": "Python 3 (ipykernel)",
   "language": "python",
   "name": "python3"
  },
  "language_info": {
   "codemirror_mode": {
    "name": "ipython",
    "version": 3
   },
   "file_extension": ".py",
   "mimetype": "text/x-python",
   "name": "python",
   "nbconvert_exporter": "python",
   "pygments_lexer": "ipython3",
   "version": "3.10.12"
  }
 },
 "nbformat": 4,
 "nbformat_minor": 5
}
